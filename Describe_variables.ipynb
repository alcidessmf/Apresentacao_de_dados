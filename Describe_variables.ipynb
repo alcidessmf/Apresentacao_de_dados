{
 "cells": [
  {
   "cell_type": "code",
   "execution_count": 24,
   "metadata": {},
   "outputs": [],
   "source": [
    "import pandas as pd\n",
    "import seaborn as sn"
   ]
  },
  {
   "cell_type": "code",
   "execution_count": 4,
   "metadata": {},
   "outputs": [],
   "source": [
    "df = pd.read_excel(\"./Banco de Dados Copos-BI.ods\", engine=\"odf\")"
   ]
  },
  {
   "cell_type": "markdown",
   "metadata": {},
   "source": [
    "# Variavel resposta\n",
    "## Preço Total\n",
    " Variavel do tipo **QUANTITATIVA**. A proposta aqui é observar como as zonas eleitorais e setores do TRE estão se adequando as propostas de sustentabilidade quanto a gestão de gastos públicos e diminuição de produção de lixo."
   ]
  },
  {
   "cell_type": "markdown",
   "metadata": {},
   "source": [
    "# Resumo da Variável resposta"
   ]
  },
  {
   "cell_type": "code",
   "execution_count": 39,
   "metadata": {
    "scrolled": true
   },
   "outputs": [
    {
     "data": {
      "text/plain": [
       "count    188.000000\n",
       "mean      22.467926\n",
       "std       23.356196\n",
       "min        1.190000\n",
       "25%        8.650000\n",
       "50%       13.160000\n",
       "75%       31.680000\n",
       "max      144.240000\n",
       "Name: Vl.Total, dtype: float64"
      ]
     },
     "execution_count": 39,
     "metadata": {},
     "output_type": "execute_result"
    }
   ],
   "source": [
    "df['Vl.Total'].describe()"
   ]
  },
  {
   "cell_type": "markdown",
   "metadata": {},
   "source": [
    "O valor máximo de **144.24** parece fora do padrão, talvez seja interessante analisar mais sobre em qual periodo e qual setor obteve tal gasto."
   ]
  },
  {
   "cell_type": "markdown",
   "metadata": {},
   "source": [
    "# Traduzindo\n",
    "Levando em consideração as novas diretrizes em relação a gastos públicos, [PEC 241](https://www.politize.com.br/teto-de-gastos-publicos-infografico/), e a crescente importância com questões ambientais, foi sugerido pela AGE que se extinguisse a utlização de copos descartáveis pelos setores do TRE e diminuissem ao máximo sua utilização nas zonas eleitorais. Ao observar que a média de gasto mensais totais com copos descatáveis é de aproximadamente R$ 22.46, faz-se necessário averiguar se essas unidades estão de fato diminuindo o consumo de copos descatáveis e porque tivermos casos tao destoantes como na seção de conservação predial. "
   ]
  },
  {
   "cell_type": "code",
   "execution_count": 52,
   "metadata": {},
   "outputs": [
    {
     "data": {
      "text/html": [
       "<div>\n",
       "<style scoped>\n",
       "    .dataframe tbody tr th:only-of-type {\n",
       "        vertical-align: middle;\n",
       "    }\n",
       "\n",
       "    .dataframe tbody tr th {\n",
       "        vertical-align: top;\n",
       "    }\n",
       "\n",
       "    .dataframe thead th {\n",
       "        text-align: right;\n",
       "    }\n",
       "</style>\n",
       "<table border=\"1\" class=\"dataframe\">\n",
       "  <thead>\n",
       "    <tr style=\"text-align: right;\">\n",
       "      <th></th>\n",
       "      <th>Unidade Gestora</th>\n",
       "      <th>Unidade</th>\n",
       "      <th>Vl.Total</th>\n",
       "    </tr>\n",
       "  </thead>\n",
       "  <tbody>\n",
       "    <tr>\n",
       "      <th>179</th>\n",
       "      <td>NaN</td>\n",
       "      <td>SEÇÃO DE CONSERVAÇÃO PREDIAL</td>\n",
       "      <td>144.24</td>\n",
       "    </tr>\n",
       "  </tbody>\n",
       "</table>\n",
       "</div>"
      ],
      "text/plain": [
       "    Unidade Gestora                       Unidade  Vl.Total\n",
       "179             NaN  SEÇÃO DE CONSERVAÇÃO PREDIAL    144.24"
      ]
     },
     "execution_count": 52,
     "metadata": {},
     "output_type": "execute_result"
    }
   ],
   "source": [
    "df[['Unidade Gestora','Unidade','Vl.Total']][df['Vl.Total']==df['Vl.Total'].max()]"
   ]
  },
  {
   "cell_type": "markdown",
   "metadata": {},
   "source": [
    "# Variaveis explicativas\n",
    "\n",
    "|**Variável**|**Tipo**|\n",
    "|----------|:-------------:|\n",
    "|Unidade Gestora   |QUALITATIVA   |    \n",
    "|Mês    |  QUALITATIVA |  \n",
    "|Quantidade    |  QUANTITATIVA |\n",
    " "
   ]
  },
  {
   "cell_type": "code",
   "execution_count": null,
   "metadata": {},
   "outputs": [],
   "source": []
  }
 ],
 "metadata": {
  "kernelspec": {
   "display_name": "Python 3",
   "language": "python",
   "name": "python3"
  },
  "language_info": {
   "codemirror_mode": {
    "name": "ipython",
    "version": 3
   },
   "file_extension": ".py",
   "mimetype": "text/x-python",
   "name": "python",
   "nbconvert_exporter": "python",
   "pygments_lexer": "ipython3",
   "version": "3.8.5"
  }
 },
 "nbformat": 4,
 "nbformat_minor": 4
}
